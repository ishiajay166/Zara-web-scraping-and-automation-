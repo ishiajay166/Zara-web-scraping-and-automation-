{
 "cells": [
  {
   "cell_type": "code",
   "execution_count": 1,
   "metadata": {},
   "outputs": [
    {
     "name": "stdout",
     "output_type": "stream",
     "text": [
      "Requirement already satisfied: pywhatkit in c:\\users\\ishika\\anaconda3\\lib\\site-packages (5.4)\n",
      "Requirement already satisfied: Pillow in c:\\users\\ishika\\anaconda3\\lib\\site-packages (from pywhatkit) (6.2.0)\n",
      "Requirement already satisfied: pyautogui in c:\\users\\ishika\\anaconda3\\lib\\site-packages (from pywhatkit) (0.9.53)\n",
      "Requirement already satisfied: Flask in c:\\users\\ishika\\anaconda3\\lib\\site-packages (from pywhatkit) (1.1.1)\n",
      "Requirement already satisfied: wikipedia in c:\\users\\ishika\\anaconda3\\lib\\site-packages (from pywhatkit) (1.4.0)\n",
      "Requirement already satisfied: requests in c:\\users\\ishika\\anaconda3\\lib\\site-packages (from pywhatkit) (2.22.0)\n",
      "Requirement already satisfied: pyscreeze>=0.1.21 in c:\\users\\ishika\\anaconda3\\lib\\site-packages (from pyautogui->pywhatkit) (0.1.28)\n",
      "Requirement already satisfied: pymsgbox in c:\\users\\ishika\\anaconda3\\lib\\site-packages (from pyautogui->pywhatkit) (1.0.9)\n",
      "Requirement already satisfied: pygetwindow>=0.0.5 in c:\\users\\ishika\\anaconda3\\lib\\site-packages (from pyautogui->pywhatkit) (0.0.9)\n",
      "Requirement already satisfied: mouseinfo in c:\\users\\ishika\\anaconda3\\lib\\site-packages (from pyautogui->pywhatkit) (0.1.3)\n",
      "Requirement already satisfied: PyTweening>=1.0.1 in c:\\users\\ishika\\anaconda3\\lib\\site-packages (from pyautogui->pywhatkit) (1.0.4)\n",
      "Requirement already satisfied: Werkzeug>=0.15 in c:\\users\\ishika\\anaconda3\\lib\\site-packages (from Flask->pywhatkit) (0.16.0)\n",
      "Requirement already satisfied: itsdangerous>=0.24 in c:\\users\\ishika\\anaconda3\\lib\\site-packages (from Flask->pywhatkit) (1.1.0)\n",
      "Requirement already satisfied: click>=5.1 in c:\\users\\ishika\\anaconda3\\lib\\site-packages (from Flask->pywhatkit) (7.0)\n",
      "Requirement already satisfied: Jinja2>=2.10.1 in c:\\users\\ishika\\anaconda3\\lib\\site-packages (from Flask->pywhatkit) (2.10.3)\n",
      "Requirement already satisfied: beautifulsoup4 in c:\\users\\ishika\\anaconda3\\lib\\site-packages (from wikipedia->pywhatkit) (4.8.0)\n",
      "Requirement already satisfied: chardet<3.1.0,>=3.0.2 in c:\\users\\ishika\\anaconda3\\lib\\site-packages (from requests->pywhatkit) (3.0.4)\n",
      "Requirement already satisfied: certifi>=2017.4.17 in c:\\users\\ishika\\anaconda3\\lib\\site-packages (from requests->pywhatkit) (2019.9.11)\n",
      "Requirement already satisfied: idna<2.9,>=2.5 in c:\\users\\ishika\\anaconda3\\lib\\site-packages (from requests->pywhatkit) (2.8)\n",
      "Requirement already satisfied: urllib3!=1.25.0,!=1.25.1,<1.26,>=1.21.1 in c:\\users\\ishika\\anaconda3\\lib\\site-packages (from requests->pywhatkit) (1.24.2)\n",
      "Requirement already satisfied: pyrect in c:\\users\\ishika\\anaconda3\\lib\\site-packages (from pygetwindow>=0.0.5->pyautogui->pywhatkit) (0.2.0)\n",
      "Requirement already satisfied: pyperclip in c:\\users\\ishika\\anaconda3\\lib\\site-packages (from mouseinfo->pyautogui->pywhatkit) (1.8.2)\n",
      "Requirement already satisfied: MarkupSafe>=0.23 in c:\\users\\ishika\\anaconda3\\lib\\site-packages (from Jinja2>=2.10.1->Flask->pywhatkit) (1.1.1)\n",
      "Requirement already satisfied: soupsieve>=1.2 in c:\\users\\ishika\\anaconda3\\lib\\site-packages (from beautifulsoup4->wikipedia->pywhatkit) (1.9.3)\n"
     ]
    }
   ],
   "source": [
    "#install pywhatkit using pip\n",
    "import sys\n",
    "!{sys.executable} -m pip install pywhatkit"
   ]
  },
  {
   "cell_type": "code",
   "execution_count": 1,
   "metadata": {},
   "outputs": [],
   "source": [
    "#importing libraries\n",
    "import requests \n",
    "import time \n",
    "import datetime \n",
    "from bs4 import BeautifulSoup\n",
    "import pywhatkit"
   ]
  },
  {
   "cell_type": "code",
   "execution_count": 2,
   "metadata": {},
   "outputs": [],
   "source": [
    "# send message on whatsapp is price is less than 1000\n",
    "def check_price():\n",
    "    #connect to the website\n",
    "    #url of website\n",
    "    URL= 'https://www.zara.com/in/en/applejuice-90-ml---3-04-oz-p20120804.html?v1=222756248'\n",
    "    # information of our laptop to connect it with it and for that \n",
    "    # go to this link :- https://httpbin.org/get\n",
    "    headers = {\"User-Agent\":\"Mozilla/5.0 (Windows NT 10.0; Win64; x64) AppleWebKit/537.36 (KHTML, like Gecko) Chrome/110.0.0.0 Safari/537.36\"}\n",
    "    # connection of out system to the website\n",
    "    page= requests.get(URL,headers=headers)\n",
    "    # pulling the data from the website  \n",
    "    soup1= BeautifulSoup(page.content,\"html.parser\")\n",
    "    # presenting it in a pretier way\n",
    "    soup2= BeautifulSoup(soup1.prettify(),\"html.parser\")\n",
    "    \n",
    "    price=soup2.find(\"span\", attrs={'class':'money-amount__main'}).text.strip()[2:3] + soup2.find(\"span\", attrs={'class':'money-amount__main'}).text.strip()[4:]\n",
    "    title=soup2.find(\"h1\", attrs={'class':'product-detail-info__header-name'}).text.strip()\n",
    "    print(title)\n",
    "    print(price)\n",
    "    \n",
    "    if float(price) < 1000:\n",
    "        pywhatkit.sendwhatmsg(\"+91XXXXXXXXXX\",\"price of applejuice zara has decreased\" , datetime.now().hour, datetime.now().minute + 5)\n",
    "        "
   ]
  },
  {
   "cell_type": "code",
   "execution_count": null,
   "metadata": {},
   "outputs": [
    {
     "name": "stdout",
     "output_type": "stream",
     "text": [
      "APPLEJUICE 90 ML / 3.04 oz\n",
      "1290.00\n"
     ]
    }
   ],
   "source": [
    "# automation to check for the price on the website after every 6th hour\n",
    "while(True):\n",
    "    check_price()\n",
    "    time.sleep(21600)"
   ]
  }
 ],
 "metadata": {
  "kernelspec": {
   "display_name": "Python 3",
   "language": "python",
   "name": "python3"
  },
  "language_info": {
   "codemirror_mode": {
    "name": "ipython",
    "version": 3
   },
   "file_extension": ".py",
   "mimetype": "text/x-python",
   "name": "python",
   "nbconvert_exporter": "python",
   "pygments_lexer": "ipython3",
   "version": "3.7.4"
  }
 },
 "nbformat": 4,
 "nbformat_minor": 2
}
